{
 "cells": [
  {
   "cell_type": "code",
   "execution_count": 1,
   "id": "419a4cb6",
   "metadata": {},
   "outputs": [
    {
     "name": "stdout",
     "output_type": "stream",
     "text": [
      "Welcome to :  PythonBank\n",
      "Enter Your Namesriya\n",
      "d-Deposite \n",
      " w-Withdraw \n",
      " e-exit\n",
      "Choose Your Option : d\n",
      "Enter amount : 500000\n",
      "Balance afte deposit :  500000.0\n",
      "d-Deposite \n",
      " w-Withdraw \n",
      " e-exit\n",
      "Choose Your Option : w\n",
      "Enter amount : 300000\n",
      "Balance after withdrawel :  200000.0\n",
      "d-Deposite \n",
      " w-Withdraw \n",
      " e-exit\n",
      "Choose Your Option : w\n",
      "Enter amount : 100000\n",
      "Balance after withdrawel :  100000.0\n",
      "d-Deposite \n",
      " w-Withdraw \n",
      " e-exit\n",
      "Choose Your Option : w\n",
      "Enter amount : 50000\n",
      "Balance after withdrawel :  50000.0\n",
      "d-Deposite \n",
      " w-Withdraw \n",
      " e-exit\n",
      "Choose Your Option : w\n",
      "Enter amount : 45000\n",
      "Balance after withdrawel :  5000.0\n",
      "d-Deposite \n",
      " w-Withdraw \n",
      " e-exit\n",
      "Choose Your Option : d\n",
      "Enter amount : 2000\n",
      "Balance afte deposit :  7000.0\n",
      "d-Deposite \n",
      " w-Withdraw \n",
      " e-exit\n",
      "Choose Your Option : w\n",
      "Enter amount : 10000\n",
      "insufficient Funds : cannot perform operations\n"
     ]
    },
    {
     "ename": "SystemExit",
     "evalue": "",
     "output_type": "error",
     "traceback": [
      "An exception has occurred, use %tb to see the full traceback.\n",
      "\u001b[1;31mSystemExit\u001b[0m\n"
     ]
    },
    {
     "name": "stderr",
     "output_type": "stream",
     "text": [
      "C:\\Users\\Student\\anaconda3\\Lib\\site-packages\\IPython\\core\\interactiveshell.py:3513: UserWarning: To exit: use 'exit', 'quit', or Ctrl-D.\n",
      "  warn(\"To exit: use 'exit', 'quit', or Ctrl-D.\", stacklevel=1)\n"
     ]
    }
   ],
   "source": [
    "import sys\n",
    "class customer:\n",
    "    \"\"\"Customer class with bank operations : \"\"\"\n",
    "    bankname = \"PythonBank\"\n",
    "    def __init__(self,name,balance = 0.0):\n",
    "        self.name = name\n",
    "        self.balance = balance\n",
    "    def deposit(self,amt):\n",
    "        self.balance = self.balance + amt\n",
    "        print(\"Balance afte deposit : \",self.balance)\n",
    "    def withdraw(self,amt):\n",
    "        if amt > self.balance:\n",
    "            print(\"insufficient Funds : cannot perform operations\")\n",
    "            sys.exit()\n",
    "        self.balance = self.balance-amt\n",
    "        print(\"Balance after withdrawel : \",self.balance)\n",
    "\n",
    "print(\"Welcome to : \",customer.bankname)\n",
    "name = input(\"Enter Your Name\")\n",
    "c = customer(name)\n",
    "while True:\n",
    "    print('d-Deposite \\n w-Withdraw \\n e-exit')\n",
    "    option = input(\"Choose Your Option : \")\n",
    "    if option == 'd' or option == 'D':\n",
    "        amt = float(input(\"Enter amount : \"))\n",
    "        c.deposit(amt)\n",
    "    elif option == 'w' or option == 'W':\n",
    "        amt = float(input(\"Enter amount : \"))\n",
    "        c.withdraw(amt)\n",
    "    elif option == 'e' or option == 'E':\n",
    "        print(\"Thanks for Banking : \")\n",
    "        sys.exit()\n",
    "    else:\n",
    "        print(\"Invalid Option plz enter valid option : \")"
   ]
  },
  {
   "cell_type": "code",
   "execution_count": null,
   "id": "2ee9fd8d",
   "metadata": {},
   "outputs": [],
   "source": []
  }
 ],
 "metadata": {
  "kernelspec": {
   "display_name": "Python 3 (ipykernel)",
   "language": "python",
   "name": "python3"
  },
  "language_info": {
   "codemirror_mode": {
    "name": "ipython",
    "version": 3
   },
   "file_extension": ".py",
   "mimetype": "text/x-python",
   "name": "python",
   "nbconvert_exporter": "python",
   "pygments_lexer": "ipython3",
   "version": "3.11.4"
  }
 },
 "nbformat": 4,
 "nbformat_minor": 5
}
