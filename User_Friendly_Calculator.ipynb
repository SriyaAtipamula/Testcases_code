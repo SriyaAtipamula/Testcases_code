{
 "cells": [
  {
   "cell_type": "code",
   "execution_count": 1,
   "id": "fb61eece",
   "metadata": {},
   "outputs": [
    {
     "name": "stdout",
     "output_type": "stream",
     "text": [
      "1.Addition\n",
      "2.Subtaction\n",
      "3.Multiplication\n",
      "4.Division\n",
      "Pls select option4\n",
      "Enter a first value:4646\n",
      "Enter a second value:7646\n",
      "The division of value is 0.6076379806434737\n"
     ]
    }
   ],
   "source": [
    "def add(a,b):\n",
    "    return a+b\n",
    "def sub(a,b):\n",
    "    return a-b\n",
    "def mul(a,b):\n",
    "    return a*b\n",
    "def div(a,b):\n",
    "    return a/b\n",
    "print(\"1.Addition\")\n",
    "print(\"2.Subtaction\")\n",
    "print(\"3.Multiplication\")\n",
    "print(\"4.Division\")\n",
    "choice=int(input(\"Pls select option\"))\n",
    "num1=float(int(input(\"Enter a first value:\")))\n",
    "num2=float(int(input(\"Enter a second value:\")))\n",
    "if choice==1:\n",
    "    n=add(num1,num2)\n",
    "    print(\"The addition value is\",n)\n",
    "    \n",
    "elif choice==2:\n",
    "    n=sub(num1,num2)\n",
    "    print(\"The subtraction value is\",n)   \n",
    "elif choice==3:\n",
    "    n=mul(num1,num2)\n",
    "    print(\"The multiplication value is\",n)   \n",
    "elif choice==4:\n",
    "    n=div(num1,num2)\n",
    "    print(\"The division of value is\",n)\n",
    "else:\n",
    "    print(\"Invalid\")\n",
    "   "
   ]
  },
  {
   "cell_type": "code",
   "execution_count": null,
   "id": "4042d946",
   "metadata": {},
   "outputs": [],
   "source": []
  }
 ],
 "metadata": {
  "kernelspec": {
   "display_name": "Python 3 (ipykernel)",
   "language": "python",
   "name": "python3"
  },
  "language_info": {
   "codemirror_mode": {
    "name": "ipython",
    "version": 3
   },
   "file_extension": ".py",
   "mimetype": "text/x-python",
   "name": "python",
   "nbconvert_exporter": "python",
   "pygments_lexer": "ipython3",
   "version": "3.11.4"
  }
 },
 "nbformat": 4,
 "nbformat_minor": 5
}
